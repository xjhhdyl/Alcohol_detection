{
 "cells": [
  {
   "cell_type": "code",
   "execution_count": 3,
   "metadata": {},
   "outputs": [],
   "source": [
    "import time \n",
    "import datetime\n",
    "\n",
    "def shijian(timeNum):\n",
    "    timeStamp = float(timeNum)/1000\n",
    "    ret_datetime = datetime.datetime.fromtimestamp(timeStamp).strftime(\"%Y-%m-%d %H:%M:%S.%f\")\n",
    "    return ret_datetime"
   ]
  },
  {
   "cell_type": "code",
   "execution_count": 10,
   "metadata": {},
   "outputs": [
    {
     "name": "stdout",
     "output_type": "stream",
     "text": [
      "['TEST_BINS3.csv', 'TEST_BINS4.csv', 'TEST_BINS5.csv', 'TEST_BINS6.csv']\n"
     ]
    }
   ],
   "source": [
    "import os\n",
    "import pandas as pd\n",
    "\n",
    "dirlist = os.listdir('../CollectedData/BINS/')\n",
    "print(dirlist)\n",
    "for i in dirlist:\n",
    "    data = pd.read_csv('../CollectedData/BINS/'+i)\n",
    "    time_df = data.iloc[:,0] #获取时间戳的那一列\n",
    "    bins_df = data.iloc[:,1:-1] #获取bins的列\n",
    "    data['max'] = bins_df.max(axis=1) # 找到bins中每一行的最大值，并且赋值给max列\n",
    "    data['time'] = (time_df-time_df[0])/1000\n",
    "    output = data[['time','max']]\n",
    "    output.to_csv('../CollectedData/OutBINS/out_'+i, index=False)"
   ]
  }
 ],
 "metadata": {
  "kernelspec": {
   "display_name": "deepl",
   "language": "python",
   "name": "python3"
  },
  "language_info": {
   "codemirror_mode": {
    "name": "ipython",
    "version": 3
   },
   "file_extension": ".py",
   "mimetype": "text/x-python",
   "name": "python",
   "nbconvert_exporter": "python",
   "pygments_lexer": "ipython3",
   "version": "3.8.13"
  },
  "orig_nbformat": 4,
  "vscode": {
   "interpreter": {
    "hash": "345ce40e20285f5c7c7977ee44d83041e0c9233e1ba1336e7d41f9ca60463eaf"
   }
  }
 },
 "nbformat": 4,
 "nbformat_minor": 2
}
