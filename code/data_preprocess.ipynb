{
 "cells": [
  {
   "attachments": {},
   "cell_type": "markdown",
   "metadata": {},
   "source": [
    "### 处理ESD表格，主要把时间戳转化为时间轴"
   ]
  },
  {
   "cell_type": "code",
   "execution_count": 1,
   "metadata": {},
   "outputs": [
    {
     "name": "stdout",
     "output_type": "stream",
     "text": [
      "['TEST_BINS1.csv', 'TEST_BINS12.csv', 'TEST_BINS2.csv', 'TEST_BINS3.csv', 'TEST_BINS4.csv', 'TEST_BINS5.csv', 'TEST_BINS6.csv', 'TEST_BINS7.csv', 'TEST_BINS9.csv']\n"
     ]
    }
   ],
   "source": [
    "import os\n",
    "import pandas as pd\n",
    "\n",
    "dirlist = os.listdir('../CollectedData/BINS/')\n",
    "print(dirlist)\n",
    "for i in dirlist:\n",
    "    data = pd.read_csv('../CollectedData/BINS/'+i)\n",
    "    time_df = data.iloc[:,0] # 获取时间戳的那一列\n",
    "    bins_df = data.iloc[:,1:-1] # 获取bins的列\n",
    "    data['max'] = bins_df.max(axis=1) # 找到bins中每一行的最大值，并且赋值给max列\n",
    "    data['time'] = (time_df-time_df[0])/1000\n",
    "    output = data[['time','max']]\n",
    "    output.to_csv('../CollectedData/OutBINS/out_'+i, index=False)"
   ]
  },
  {
   "cell_type": "code",
   "execution_count": 1,
   "metadata": {},
   "outputs": [],
   "source": [
    "import utils.speechlib\n"
   ]
  }
 ],
 "metadata": {
  "kernelspec": {
   "display_name": "deepl",
   "language": "python",
   "name": "python3"
  },
  "language_info": {
   "codemirror_mode": {
    "name": "ipython",
    "version": 3
   },
   "file_extension": ".py",
   "mimetype": "text/x-python",
   "name": "python",
   "nbconvert_exporter": "python",
   "pygments_lexer": "ipython3",
   "version": "3.7.1"
  },
  "orig_nbformat": 4,
  "vscode": {
   "interpreter": {
    "hash": "345ce40e20285f5c7c7977ee44d83041e0c9233e1ba1336e7d41f9ca60463eaf"
   }
  }
 },
 "nbformat": 4,
 "nbformat_minor": 2
}
